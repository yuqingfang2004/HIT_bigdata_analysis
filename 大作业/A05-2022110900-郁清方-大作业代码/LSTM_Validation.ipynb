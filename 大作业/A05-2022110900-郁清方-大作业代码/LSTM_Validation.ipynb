{
 "cells": [
  {
   "cell_type": "code",
   "execution_count": 1,
   "id": "09090f76",
   "metadata": {},
   "outputs": [],
   "source": [
    "import torch\n",
    "import torch.nn as nn\n",
    "import torch.optim as optim\n",
    "import pandas as pd\n",
    "from torch.utils.data import DataLoader, TensorDataset\n",
    "from sklearn.preprocessing import OneHotEncoder\n",
    "import gensim\n",
    "import numpy as np\n",
    "import matplotlib.pyplot as plt\n",
    "\n",
    "\n",
    "EVENT_TEMPLATE_COLUMNS = ['EventTemplate{}'.format(i) for i in range(1, 6)]\n",
    "NEXT_EVENT_TEMPLATE_COLUMN = 'Next_EventTemplate'\n",
    "\n",
    "# 加载LDA模型\n",
    "lda_model_path = r'E:\\Code for Project2024\\lda_model\\model'\n",
    "lda_model = gensim.models.LdaModel.load(lda_model_path)\n",
    "n_topics = lda_model.num_topics\n",
    "\n",
    "# 定义LSTM网络\n",
    "class LSTMNet(nn.Module):\n",
    "    def __init__(self, input_dim, hidden_dim, num_layers, output_dim):\n",
    "        super(LSTMNet, self).__init__()\n",
    "        self.hidden_dim = hidden_dim\n",
    "        self.num_layers = num_layers\n",
    "        self.lstm = nn.LSTM(input_dim, hidden_dim, num_layers, batch_first=True)\n",
    "        self.fc = nn.Linear(hidden_dim, output_dim)\n",
    "\n",
    "    def forward(self, x, hidden=None):\n",
    "        if hidden is None:\n",
    "            h0 = torch.zeros(self.num_layers, x.size(0), self.hidden_dim).to(x.device)\n",
    "            c0 = torch.zeros(self.num_layers, x.size(0), self.hidden_dim).to(x.device)\n",
    "            hidden = (h0, c0)\n",
    "        out, _ = self.lstm(x, hidden)\n",
    "        out = self.fc(out[:, -1, :])\n",
    "        return out"
   ]
  },
  {
   "cell_type": "code",
   "execution_count": 2,
   "id": "1dace120",
   "metadata": {},
   "outputs": [],
   "source": [
    "# 数据处理\n",
    "csv_file_path = r'E:\\Code for Project2024\\Data_for_Train\\L2\\L2 validation_dataset.csv'\n",
    "df = pd.read_csv(csv_file_path)\n",
    "\n",
    "# 生成每个EventTemplate的LDA概率分布\n",
    "def get_lda_vector(lda_model, event_templates):\n",
    "    # 转换event_templates为适合LDA模型的输入形式\n",
    "    # 假设event_templates已经是预处理过的数据，每个EventTemplate是一个字符串\n",
    "    corpus = [lda_model.id2word.doc2bow(event.split()) for event in event_templates]\n",
    "    lda_vectors = [lda_model[doc] for doc in corpus]\n",
    "    # 转换为密集的独热码形式\n",
    "    lda_vectors_dense = np.zeros((len(lda_vectors), n_topics))\n",
    "    for i, doc in enumerate(lda_vectors):\n",
    "        for topic, prob in doc:\n",
    "            lda_vectors_dense[i, topic] = prob\n",
    "    return lda_vectors_dense\n",
    "\n",
    "# 获取数据集中所有EventTemplate和Next_EventTemplate的LDA概率分布\n",
    "event_lda_vectors = get_lda_vector(lda_model, df[EVENT_TEMPLATE_COLUMNS].values.flatten())\n",
    "next_event_lda_vectors = get_lda_vector(lda_model, df[NEXT_EVENT_TEMPLATE_COLUMN].values)\n",
    "\n",
    "# 将Next_EventTemplate的LDA概率分布转换为独热码\n",
    "encoder = OneHotEncoder()\n",
    "next_event_onehot = encoder.fit_transform(next_event_lda_vectors.argmax(axis=1).reshape(-1, 1))\n",
    "\n",
    "\n",
    "# 转换为Tensor\n",
    "event_lda_tensors = torch.tensor(event_lda_vectors, dtype=torch.float).view(len(df), -1, n_topics)\n",
    "next_event_onehot_tensors = torch.tensor(next_event_onehot.toarray(), dtype=torch.float)"
   ]
  },
  {
   "cell_type": "code",
   "execution_count": 4,
   "id": "48e7d47e",
   "metadata": {},
   "outputs": [
    {
     "name": "stdout",
     "output_type": "stream",
     "text": [
      "将在cuda上验证模型\n"
     ]
    },
    {
     "data": {
      "text/plain": [
       "<All keys matched successfully>"
      ]
     },
     "execution_count": 4,
     "metadata": {},
     "output_type": "execute_result"
    }
   ],
   "source": [
    "# 检查是否有可用的GPU\n",
    "device = torch.device(\"cuda\" if torch.cuda.is_available() else \"cpu\")\n",
    "print(\"将在\"+ str(device) +\"上验证模型\")\n",
    "\n",
    "# 定义LSTM模型\n",
    "model = LSTMNet(input_dim=n_topics, hidden_dim=5, num_layers=3, output_dim=n_topics).to(device)\n",
    "\n",
    "# 将之前训练好的模型导入\n",
    "model.load_state_dict(torch.load(r'E:\\Code for Project2024\\LSTM_Model\\LSTM_model.pth'))\n"
   ]
  },
  {
   "cell_type": "code",
   "execution_count": 24,
   "id": "f0a5f4eb",
   "metadata": {},
   "outputs": [
    {
     "name": "stdout",
     "output_type": "stream",
     "text": [
      "模型准确度: 0.6729278235153066\n"
     ]
    }
   ],
   "source": [
    "# 验证阶段\n",
    "total = len(event_lda_tensors)\n",
    "correct_predictions = 0\n",
    "\n",
    "event_lda_tensors = event_lda_tensors.cuda()\n",
    "next_event_onehot_tensors = next_event_onehot_tensors.cuda()\n",
    "\n",
    "# 设置模型模式为评估模式\n",
    "model.eval()\n",
    "\n",
    "with torch.no_grad():\n",
    "    for i in range(total):\n",
    "        current_event_lda = event_lda_tensors[i:i+1]\n",
    "        current_next_event_onehot = next_event_onehot_tensors[i:i+1]\n",
    "        # 推理\n",
    "        outputs = model(current_event_lda)\n",
    "        \n",
    "        # 使用softmax将输出转换为概率分布\n",
    "        probabilities = nn.functional.softmax(outputs, dim=1)\n",
    "        # 获取前 k个最大值的索引\n",
    "        _, top3_indices = torch.topk(probabilities, k=18, dim=1)\n",
    "        \n",
    "        # 将前三个最大值转换为独热码\n",
    "        top3_onehot = torch.zeros_like(probabilities)\n",
    "        top3_onehot.scatter_(1, top3_indices, 1)\n",
    "        \n",
    "        # 检查真实标签是否在前 k个最大值中\n",
    "        true_label = torch.argmax(current_next_event_onehot, dim=1).item()\n",
    "        if true_label in top3_indices.tolist()[0]:\n",
    "            correct_predictions += 1\n",
    "            \n",
    "accuracy = correct_predictions / total\n",
    "print(\"模型准确度:\", accuracy)"
   ]
  },
  {
   "cell_type": "code",
   "execution_count": 1,
   "id": "8b0d646b",
   "metadata": {},
   "outputs": [],
   "source": [
    "hex_data = b'\\xaa\\xbb\\xcc\\xdd'"
   ]
  }
 ],
 "metadata": {
  "kernelspec": {
   "display_name": "Python 3 (ipykernel)",
   "language": "python",
   "name": "python3"
  },
  "language_info": {
   "codemirror_mode": {
    "name": "ipython",
    "version": 3
   },
   "file_extension": ".py",
   "mimetype": "text/x-python",
   "name": "python",
   "nbconvert_exporter": "python",
   "pygments_lexer": "ipython3",
   "version": "3.11.5"
  }
 },
 "nbformat": 4,
 "nbformat_minor": 5
}
